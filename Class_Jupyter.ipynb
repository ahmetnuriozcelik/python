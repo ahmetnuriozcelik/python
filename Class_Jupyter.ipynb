{
 "cells": [
  {
   "cell_type": "code",
   "execution_count": 1,
   "metadata": {},
   "outputs": [
    {
     "name": "stdout",
     "output_type": "stream",
     "text": [
      "6\n"
     ]
    }
   ],
   "source": [
    "# Defines the class:\n",
    "class Circle(object):\n",
    "# Defines the attributes to initialize object\n",
    "    def __init__(self, radius, color):\n",
    "        self.radius=radius;\n",
    "        self.color=color;\n",
    "# Define a method: add_radius\n",
    "    def add_radius(self,r):\n",
    "        self.radius=self.radius+r\n",
    "        return self.add_radius\n",
    "\n",
    "# Red circle object with radis=3 is initiated\n",
    "red_circle=Circle(3,'red')\n",
    "# add_radius method is used to increase radius by 3\n",
    "red_circle.add_radius(3)\n",
    "print(red_circle.radius)"
   ]
  }
 ],
 "metadata": {
  "kernelspec": {
   "display_name": "Python 3",
   "language": "python",
   "name": "python3"
  },
  "language_info": {
   "codemirror_mode": {
    "name": "ipython",
    "version": 3
   },
   "file_extension": ".py",
   "mimetype": "text/x-python",
   "name": "python",
   "nbconvert_exporter": "python",
   "pygments_lexer": "ipython3",
   "version": "3.7.3"
  }
 },
 "nbformat": 4,
 "nbformat_minor": 2
}
